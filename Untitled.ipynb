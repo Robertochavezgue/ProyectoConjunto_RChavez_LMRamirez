{
 "cells": [
  {
   "cell_type": "markdown",
   "metadata": {},
   "source": [
    "Tarea 1"
   ]
  },
  {
   "cell_type": "markdown",
   "metadata": {},
   "source": [
    "Expectativas del curso de Luis María Ramírez de la Rosa"
   ]
  },
  {
   "cell_type": "markdown",
   "metadata": {},
   "source": [
    "Apender a programar de forma vectorizada y funcional y poder reucir de manera importante el tiempo de procesamiento de los códigos en python."
   ]
  },
  {
   "cell_type": "markdown",
   "metadata": {},
   "source": [
    "Expectativas del curso Roberto Chávez Guerrero"
   ]
  },
  {
   "cell_type": "markdown",
   "metadata": {},
   "source": [
    "Comprender de una manera eficiente como es que funciona python ,utilizar diferentes formas de programar de manera más eficiente,en lugar de utilizar las metodologías aprendidas en simulación matemática."
   ]
  },
  {
   "cell_type": "markdown",
   "metadata": {},
   "source": []
  },
  {
   "cell_type": "markdown",
   "metadata": {},
   "source": [
    "| i | x    | f(x)   |\n",
    "|---|------|--------|\n",
    "| 0 | -1   | 0.3678 |\n",
    "| 1 | -0.5 | 0.7788 |\n",
    "| 2 | 0    | 1      |\n",
    "| 3 | 0.5  | 0.7788 |\n",
    "| 4 | 1    | 0.3678 |"
   ]
  },
  {
   "cell_type": "markdown",
   "metadata": {},
   "source": [
    "| i  | 1   | 2   | 3   | 4   | 5 | 6 | 7  |\n",
    "|----|-----|-----|-----|-----|---|---|----|\n",
    "| Ei | 12  | 10  | 24  | 12  | - | - | -  |\n",
    "| ri | 0.1 | 0.5 | 0.2 | 0.5 | - | - | -  |\n",
    "| Ri | 25  | 40  | 16  | 20  | 9 | 4 | 20 |"
   ]
  },
  {
   "cell_type": "code",
   "execution_count": null,
   "metadata": {},
   "outputs": [],
   "source": []
  }
 ],
 "metadata": {
  "kernelspec": {
   "display_name": "Python 3",
   "language": "python",
   "name": "python3"
  },
  "language_info": {
   "codemirror_mode": {
    "name": "ipython",
    "version": 3
   },
   "file_extension": ".py",
   "mimetype": "text/x-python",
   "name": "python",
   "nbconvert_exporter": "python",
   "pygments_lexer": "ipython3",
   "version": "3.6.5"
  }
 },
 "nbformat": 4,
 "nbformat_minor": 4
}
